{
  "nbformat": 4,
  "nbformat_minor": 0,
  "metadata": {
    "colab": {
      "provenance": []
    },
    "kernelspec": {
      "name": "python3",
      "display_name": "Python 3"
    },
    "language_info": {
      "name": "python"
    }
  },
  "cells": [
    {
      "cell_type": "code",
      "execution_count": null,
      "metadata": {
        "colab": {
          "base_uri": "https://localhost:8080/"
        },
        "id": "57KWVOyDzNfo",
        "outputId": "3ab91bd4-5291-4c51-8d10-941a2036d565"
      },
      "outputs": [
        {
          "output_type": "stream",
          "name": "stdout",
          "text": [
            "Collecting pyspark\n",
            "  Downloading pyspark-3.5.2.tar.gz (317.3 MB)\n",
            "\u001b[2K     \u001b[90m━━━━━━━━━━━━━━━━━━━━━━━━━━━━━━━━━━━━━━━━\u001b[0m \u001b[32m317.3/317.3 MB\u001b[0m \u001b[31m4.7 MB/s\u001b[0m eta \u001b[36m0:00:00\u001b[0m\n",
            "\u001b[?25h  Preparing metadata (setup.py) ... \u001b[?25l\u001b[?25hdone\n",
            "Requirement already satisfied: py4j==0.10.9.7 in /usr/local/lib/python3.10/dist-packages (from pyspark) (0.10.9.7)\n",
            "Building wheels for collected packages: pyspark\n",
            "  Building wheel for pyspark (setup.py) ... \u001b[?25l\u001b[?25hdone\n",
            "  Created wheel for pyspark: filename=pyspark-3.5.2-py2.py3-none-any.whl size=317812365 sha256=23c1df278a85b3cb8812e36ec0919162355e31769636163e9d44441f7a3adf4b\n",
            "  Stored in directory: /root/.cache/pip/wheels/34/34/bd/03944534c44b677cd5859f248090daa9fb27b3c8f8e5f49574\n",
            "Successfully built pyspark\n",
            "Installing collected packages: pyspark\n",
            "Successfully installed pyspark-3.5.2\n"
          ]
        }
      ],
      "source": [
        "pip install pyspark\n"
      ]
    },
    {
      "cell_type": "markdown",
      "source": [
        "# Building a KMeans Clustering algorithm on a Spark cluster."
      ],
      "metadata": {
        "id": "qu5uBP1v8wNH"
      }
    },
    {
      "cell_type": "code",
      "source": [
        "from pyspark.sql import SparkSession"
      ],
      "metadata": {
        "id": "Pk8_sz4518UQ"
      },
      "execution_count": null,
      "outputs": []
    },
    {
      "cell_type": "code",
      "source": [
        "# Create a Spark session\n",
        "spark = SparkSession.builder.appName(\"HousingData\").getOrCreate()\n",
        "\n",
        "\n",
        "# Read the CSV file into a DataFrame\n",
        "df = spark.read.option(\"header\", \"true\").option(\"inferSchema\", \"true\").csv('/content/housing.csv')\n",
        "\n",
        "# Inspect the schema of the DataFrame\n",
        "df.printSchema()\n"
      ],
      "metadata": {
        "colab": {
          "base_uri": "https://localhost:8080/"
        },
        "id": "76bQ7IXEJqlK",
        "outputId": "c22d0b42-3156-40d0-eb2f-c79ea3633e92"
      },
      "execution_count": null,
      "outputs": [
        {
          "output_type": "stream",
          "name": "stdout",
          "text": [
            "root\n",
            " |-- CRIM: double (nullable = true)\n",
            " |-- ZN: double (nullable = true)\n",
            " |-- INDUS: double (nullable = true)\n",
            " |-- CHAS: integer (nullable = true)\n",
            " |-- NOX: double (nullable = true)\n",
            " |-- RM: double (nullable = true)\n",
            " |-- AGE: double (nullable = true)\n",
            " |-- DIS: double (nullable = true)\n",
            " |-- RAD: integer (nullable = true)\n",
            " |-- TAX: double (nullable = true)\n",
            " |-- PTRATIO: double (nullable = true)\n",
            " |-- B: double (nullable = true)\n",
            " |-- LSTAT: double (nullable = true)\n",
            " |-- MEDV: double (nullable = true)\n",
            "\n"
          ]
        }
      ]
    },
    {
      "cell_type": "code",
      "source": [
        "from pyspark.sql.functions import col\n",
        "\n",
        "df = df.withColumn(\"TAX\", col(\"TAX\").cast(\"integer\"))\n",
        "\n",
        "# Inspect the schema to confirm the change\n",
        "df.printSchema()"
      ],
      "metadata": {
        "colab": {
          "base_uri": "https://localhost:8080/"
        },
        "id": "ee2EKy_oNpZt",
        "outputId": "0f7b34bd-ce0f-42f5-80f6-6566337f8ae1"
      },
      "execution_count": null,
      "outputs": [
        {
          "output_type": "stream",
          "name": "stdout",
          "text": [
            "root\n",
            " |-- CRIM: double (nullable = true)\n",
            " |-- ZN: double (nullable = true)\n",
            " |-- INDUS: double (nullable = true)\n",
            " |-- CHAS: integer (nullable = true)\n",
            " |-- NOX: double (nullable = true)\n",
            " |-- RM: double (nullable = true)\n",
            " |-- AGE: double (nullable = true)\n",
            " |-- DIS: double (nullable = true)\n",
            " |-- RAD: integer (nullable = true)\n",
            " |-- TAX: integer (nullable = true)\n",
            " |-- PTRATIO: double (nullable = true)\n",
            " |-- B: double (nullable = true)\n",
            " |-- LSTAT: double (nullable = true)\n",
            " |-- MEDV: double (nullable = true)\n",
            "\n"
          ]
        }
      ]
    },
    {
      "cell_type": "code",
      "source": [
        "# Unfortunately, Spark did not infer the schema correctly. We will have to manually create a schema.\n",
        "# I will Create the schema using SructType() and StructField().\n",
        "\n",
        "from pyspark.sql.types import StructType, StructField, StringType, IntegerType, DoubleType"
      ],
      "metadata": {
        "id": "Tms1vrbmMnLB"
      },
      "execution_count": null,
      "outputs": []
    },
    {
      "cell_type": "code",
      "source": [
        "\n",
        "#### REMOVE THIS ONE MAYBE, & the CELL ABOVE AS WELL\n",
        "\n",
        "##########schema = StructType([\n",
        "    StructField(\"CRIM\", DoubleType(), True),\n",
        "    StructField(\"ZN\", DoubleType(), True),\n",
        "    StructField(\"INDUS\", DoubleType(), True),\n",
        "    StructField(\"CHAS\", IntegerType(), True),\n",
        "    StructField(\"NOX\", DoubleType(), True),\n",
        "    StructField(\"RM\", DoubleType(), True),\n",
        "    StructField(\"AGE\", DoubleType(), True),\n",
        "    StructField(\"DIS\", DoubleType(), True),\n",
        "    StructField(\"RAD\", IntegerType(), True),\n",
        "    StructField(\"TAX\", IntegerType(), True),\n",
        "    StructField(\"PTRATIO\", DoubleType(), True),\n",
        "    StructField(\"B\", DoubleType(), True),\n",
        "    StructField(\"LSTAT\", DoubleType(), True),\n",
        "    StructField(\"MEDV\", DoubleType(), True)\n",
        "])\n"
      ],
      "metadata": {
        "id": "eAwhl13cL3lq"
      },
      "execution_count": null,
      "outputs": []
    },
    {
      "cell_type": "code",
      "source": [
        "df.show(20 , truncate = False)"
      ],
      "metadata": {
        "colab": {
          "base_uri": "https://localhost:8080/"
        },
        "id": "N0flYgIRLC33",
        "outputId": "e003a0f2-e6ca-4645-e211-f22928d40d0c"
      },
      "execution_count": null,
      "outputs": [
        {
          "output_type": "stream",
          "name": "stdout",
          "text": [
            "+-------+----+-----+----+-----+-----+-----+------+---+---+-------+------+-----+----+\n",
            "|CRIM   |ZN  |INDUS|CHAS|NOX  |RM   |AGE  |DIS   |RAD|TAX|PTRATIO|B     |LSTAT|MEDV|\n",
            "+-------+----+-----+----+-----+-----+-----+------+---+---+-------+------+-----+----+\n",
            "|0.00632|18.0|2.31 |0   |0.538|6.575|65.2 |4.09  |1  |296|15.3   |396.9 |4.98 |24.0|\n",
            "|0.02731|0.0 |7.07 |0   |0.469|6.421|78.9 |4.9671|2  |242|17.8   |396.9 |9.14 |21.6|\n",
            "|0.02729|0.0 |7.07 |0   |0.469|7.185|61.1 |4.9671|2  |242|17.8   |392.83|4.03 |34.7|\n",
            "|0.03237|0.0 |2.18 |0   |0.458|6.998|45.8 |6.0622|3  |222|18.7   |394.63|2.94 |33.4|\n",
            "|0.06905|0.0 |2.18 |0   |0.458|7.147|54.2 |6.0622|3  |222|18.7   |396.9 |5.33 |36.2|\n",
            "|0.02985|0.0 |2.18 |0   |0.458|6.43 |58.7 |6.0622|3  |222|18.7   |394.12|5.21 |28.7|\n",
            "|0.08829|12.5|7.87 |0   |0.524|6.012|66.6 |5.5605|5  |311|15.2   |395.6 |12.43|22.9|\n",
            "|0.14455|12.5|7.87 |0   |0.524|6.172|96.1 |5.9505|5  |311|15.2   |396.9 |19.15|27.1|\n",
            "|0.21124|12.5|7.87 |0   |0.524|5.631|100.0|6.0821|5  |311|15.2   |386.63|29.93|16.5|\n",
            "|0.17004|12.5|7.87 |0   |0.524|6.004|85.9 |6.5921|5  |311|15.2   |386.71|17.1 |18.9|\n",
            "|0.22489|12.5|7.87 |0   |0.524|6.377|94.3 |6.3467|5  |311|15.2   |392.52|20.45|15.0|\n",
            "|0.11747|12.5|7.87 |0   |0.524|6.009|82.9 |6.2267|5  |311|15.2   |396.9 |13.27|18.9|\n",
            "|0.09378|12.5|7.87 |0   |0.524|5.889|39.0 |5.4509|5  |311|15.2   |390.5 |15.71|21.7|\n",
            "|0.62976|0.0 |8.14 |0   |0.538|5.949|61.8 |4.7075|4  |307|21.0   |396.9 |8.26 |20.4|\n",
            "|0.63796|0.0 |8.14 |0   |0.538|6.096|84.5 |4.4619|4  |307|21.0   |380.02|10.26|18.2|\n",
            "|0.62739|0.0 |8.14 |0   |0.538|5.834|56.5 |4.4986|4  |307|21.0   |395.62|8.47 |19.9|\n",
            "|1.05393|0.0 |8.14 |0   |0.538|5.935|29.3 |4.4986|4  |307|21.0   |386.85|6.58 |23.1|\n",
            "|0.7842 |0.0 |8.14 |0   |0.538|5.99 |81.7 |4.2579|4  |307|21.0   |386.75|14.67|17.5|\n",
            "|0.80271|0.0 |8.14 |0   |0.538|5.456|36.6 |3.7965|4  |307|21.0   |288.99|11.69|20.2|\n",
            "|0.7258 |0.0 |8.14 |0   |0.538|5.727|69.5 |3.7965|4  |307|21.0   |390.95|11.28|18.2|\n",
            "+-------+----+-----+----+-----+-----+-----+------+---+---+-------+------+-----+----+\n",
            "only showing top 20 rows\n",
            "\n"
          ]
        }
      ]
    },
    {
      "cell_type": "code",
      "source": [
        "# Removing any missing values from the data\n",
        "\n",
        "df.na.drop()"
      ],
      "metadata": {
        "colab": {
          "base_uri": "https://localhost:8080/"
        },
        "id": "9ppv5AF-LC66",
        "outputId": "421bc22a-ab7f-47d0-fc49-3bb36e79b87d"
      },
      "execution_count": null,
      "outputs": [
        {
          "output_type": "execute_result",
          "data": {
            "text/plain": [
              "DataFrame[CRIM: double, ZN: double, INDUS: double, CHAS: int, NOX: double, RM: double, AGE: double, DIS: double, RAD: int, TAX: int, PTRATIO: double, B: double, LSTAT: double, MEDV: double]"
            ]
          },
          "metadata": {},
          "execution_count": 44
        }
      ]
    },
    {
      "cell_type": "code",
      "source": [
        " # Identifying the column to define the label column which is 'MEDV'\n",
        "\n",
        " df.columns"
      ],
      "metadata": {
        "colab": {
          "base_uri": "https://localhost:8080/"
        },
        "id": "ipUOpuTCLC-J",
        "outputId": "28efa17a-3828-403e-f06c-65b10db878d6"
      },
      "execution_count": null,
      "outputs": [
        {
          "output_type": "execute_result",
          "data": {
            "text/plain": [
              "['CRIM',\n",
              " 'ZN',\n",
              " 'INDUS',\n",
              " 'CHAS',\n",
              " 'NOX',\n",
              " 'RM',\n",
              " 'AGE',\n",
              " 'DIS',\n",
              " 'RAD',\n",
              " 'TAX',\n",
              " 'PTRATIO',\n",
              " 'B',\n",
              " 'LSTAT',\n",
              " 'MEDV']"
            ]
          },
          "metadata": {},
          "execution_count": 45
        }
      ]
    },
    {
      "cell_type": "code",
      "source": [
        "# Assembling the feature columns as a Vector Column.\n",
        "# Spark MLlib requires input features to be assembled into a single vector column named \"features\"\n",
        "from pyspark.ml.feature import VectorAssembler\n",
        "assembler = VectorAssembler(inputCols=['CRIM',\n",
        " 'ZN',\n",
        " 'INDUS',\n",
        " 'CHAS',\n",
        " 'NOX',\n",
        " 'RM',\n",
        " 'AGE',\n",
        " 'DIS',\n",
        " 'RAD',\n",
        " 'TAX',\n",
        " 'PTRATIO',\n",
        " 'B',\n",
        " 'LSTAT'], outputCol='features')"
      ],
      "metadata": {
        "id": "vhWqY7CaOqaY"
      },
      "execution_count": null,
      "outputs": []
    },
    {
      "cell_type": "code",
      "source": [
        "# Transform the DataFrame\n",
        "transformed_df = assembler.transform(df)\n",
        "\n",
        "# Print out the newly transformed DataFrame\n",
        "transformed_df.show()\n",
        "\n",
        "\n",
        "# the features column at the end will be used to fit the Linear Regression model while our label will be 'MEDV'"
      ],
      "metadata": {
        "colab": {
          "base_uri": "https://localhost:8080/"
        },
        "id": "tMS9kyZKOqr3",
        "outputId": "04bcf45e-0950-4d37-ab7f-212d8cbffda6"
      },
      "execution_count": 52,
      "outputs": [
        {
          "output_type": "stream",
          "name": "stdout",
          "text": [
            "+-------+----+-----+----+-----+-----+-----+------+---+---+-------+------+-----+----+--------------------+\n",
            "|   CRIM|  ZN|INDUS|CHAS|  NOX|   RM|  AGE|   DIS|RAD|TAX|PTRATIO|     B|LSTAT|MEDV|            features|\n",
            "+-------+----+-----+----+-----+-----+-----+------+---+---+-------+------+-----+----+--------------------+\n",
            "|0.00632|18.0| 2.31|   0|0.538|6.575| 65.2|  4.09|  1|296|   15.3| 396.9| 4.98|24.0|[0.00632,18.0,2.3...|\n",
            "|0.02731| 0.0| 7.07|   0|0.469|6.421| 78.9|4.9671|  2|242|   17.8| 396.9| 9.14|21.6|[0.02731,0.0,7.07...|\n",
            "|0.02729| 0.0| 7.07|   0|0.469|7.185| 61.1|4.9671|  2|242|   17.8|392.83| 4.03|34.7|[0.02729,0.0,7.07...|\n",
            "|0.03237| 0.0| 2.18|   0|0.458|6.998| 45.8|6.0622|  3|222|   18.7|394.63| 2.94|33.4|[0.03237,0.0,2.18...|\n",
            "|0.06905| 0.0| 2.18|   0|0.458|7.147| 54.2|6.0622|  3|222|   18.7| 396.9| 5.33|36.2|[0.06905,0.0,2.18...|\n",
            "|0.02985| 0.0| 2.18|   0|0.458| 6.43| 58.7|6.0622|  3|222|   18.7|394.12| 5.21|28.7|[0.02985,0.0,2.18...|\n",
            "|0.08829|12.5| 7.87|   0|0.524|6.012| 66.6|5.5605|  5|311|   15.2| 395.6|12.43|22.9|[0.08829,12.5,7.8...|\n",
            "|0.14455|12.5| 7.87|   0|0.524|6.172| 96.1|5.9505|  5|311|   15.2| 396.9|19.15|27.1|[0.14455,12.5,7.8...|\n",
            "|0.21124|12.5| 7.87|   0|0.524|5.631|100.0|6.0821|  5|311|   15.2|386.63|29.93|16.5|[0.21124,12.5,7.8...|\n",
            "|0.17004|12.5| 7.87|   0|0.524|6.004| 85.9|6.5921|  5|311|   15.2|386.71| 17.1|18.9|[0.17004,12.5,7.8...|\n",
            "|0.22489|12.5| 7.87|   0|0.524|6.377| 94.3|6.3467|  5|311|   15.2|392.52|20.45|15.0|[0.22489,12.5,7.8...|\n",
            "|0.11747|12.5| 7.87|   0|0.524|6.009| 82.9|6.2267|  5|311|   15.2| 396.9|13.27|18.9|[0.11747,12.5,7.8...|\n",
            "|0.09378|12.5| 7.87|   0|0.524|5.889| 39.0|5.4509|  5|311|   15.2| 390.5|15.71|21.7|[0.09378,12.5,7.8...|\n",
            "|0.62976| 0.0| 8.14|   0|0.538|5.949| 61.8|4.7075|  4|307|   21.0| 396.9| 8.26|20.4|[0.62976,0.0,8.14...|\n",
            "|0.63796| 0.0| 8.14|   0|0.538|6.096| 84.5|4.4619|  4|307|   21.0|380.02|10.26|18.2|[0.63796,0.0,8.14...|\n",
            "|0.62739| 0.0| 8.14|   0|0.538|5.834| 56.5|4.4986|  4|307|   21.0|395.62| 8.47|19.9|[0.62739,0.0,8.14...|\n",
            "|1.05393| 0.0| 8.14|   0|0.538|5.935| 29.3|4.4986|  4|307|   21.0|386.85| 6.58|23.1|[1.05393,0.0,8.14...|\n",
            "| 0.7842| 0.0| 8.14|   0|0.538| 5.99| 81.7|4.2579|  4|307|   21.0|386.75|14.67|17.5|[0.7842,0.0,8.14,...|\n",
            "|0.80271| 0.0| 8.14|   0|0.538|5.456| 36.6|3.7965|  4|307|   21.0|288.99|11.69|20.2|[0.80271,0.0,8.14...|\n",
            "| 0.7258| 0.0| 8.14|   0|0.538|5.727| 69.5|3.7965|  4|307|   21.0|390.95|11.28|18.2|[0.7258,0.0,8.14,...|\n",
            "+-------+----+-----+----+-----+-----+-----+------+---+---+-------+------+-----+----+--------------------+\n",
            "only showing top 20 rows\n",
            "\n"
          ]
        }
      ]
    },
    {
      "cell_type": "markdown",
      "source": [
        "**Split the data into the training and test set**"
      ],
      "metadata": {
        "id": "5KzdREeOWvo3"
      }
    },
    {
      "cell_type": "code",
      "source": [
        "train, test = transformed_df.randomSplit([0.7, 0.3])"
      ],
      "metadata": {
        "id": "QuVQjQjHOqvD"
      },
      "execution_count": 61,
      "outputs": []
    },
    {
      "cell_type": "code",
      "source": [
        "train.show(5 , False)\n",
        "\n",
        "train.count()   # number of records in the training set"
      ],
      "metadata": {
        "colab": {
          "base_uri": "https://localhost:8080/"
        },
        "id": "0MF3Nd6FW_vn",
        "outputId": "dd27daeb-20d9-4f89-8cb4-402780ec56ed"
      },
      "execution_count": 62,
      "outputs": [
        {
          "output_type": "stream",
          "name": "stdout",
          "text": [
            "+-------+----+-----+----+-----+-----+----+------+---+---+-------+------+-----+----+--------------------------------------------------------------------------+\n",
            "|CRIM   |ZN  |INDUS|CHAS|NOX  |RM   |AGE |DIS   |RAD|TAX|PTRATIO|B     |LSTAT|MEDV|features                                                                  |\n",
            "+-------+----+-----+----+-----+-----+----+------+---+---+-------+------+-----+----+--------------------------------------------------------------------------+\n",
            "|0.00632|18.0|2.31 |0   |0.538|6.575|65.2|4.09  |1  |296|15.3   |396.9 |4.98 |24.0|[0.00632,18.0,2.31,0.0,0.538,6.575,65.2,4.09,1.0,296.0,15.3,396.9,4.98]   |\n",
            "|0.00906|90.0|2.97 |0   |0.4  |7.088|20.8|7.3073|1  |285|15.3   |394.72|7.85 |32.2|[0.00906,90.0,2.97,0.0,0.4,7.088,20.8,7.3073,1.0,285.0,15.3,394.72,7.85]  |\n",
            "|0.01311|90.0|1.22 |0   |0.403|7.249|21.9|8.6966|5  |226|17.9   |395.93|4.81 |35.4|[0.01311,90.0,1.22,0.0,0.403,7.249,21.9,8.6966,5.0,226.0,17.9,395.93,4.81]|\n",
            "|0.0136 |75.0|4.0  |0   |0.41 |5.888|47.6|7.3197|3  |469|21.1   |396.9 |14.8 |18.9|[0.0136,75.0,4.0,0.0,0.41,5.888,47.6,7.3197,3.0,469.0,21.1,396.9,14.8]    |\n",
            "|0.01381|80.0|0.46 |0   |0.422|7.875|32.0|5.6484|4  |255|14.4   |394.23|2.97 |50.0|[0.01381,80.0,0.46,0.0,0.422,7.875,32.0,5.6484,4.0,255.0,14.4,394.23,2.97]|\n",
            "+-------+----+-----+----+-----+-----+----+------+---+---+-------+------+-----+----+--------------------------------------------------------------------------+\n",
            "only showing top 5 rows\n",
            "\n"
          ]
        },
        {
          "output_type": "execute_result",
          "data": {
            "text/plain": [
              "362"
            ]
          },
          "metadata": {},
          "execution_count": 62
        }
      ]
    },
    {
      "cell_type": "code",
      "source": [
        "test.show(5 , False)\n",
        "\n",
        "test.count()"
      ],
      "metadata": {
        "colab": {
          "base_uri": "https://localhost:8080/"
        },
        "id": "snJK29G2W_yG",
        "outputId": "d04b8ba9-5336-447c-84c6-c56cba348bf8"
      },
      "execution_count": 63,
      "outputs": [
        {
          "output_type": "stream",
          "name": "stdout",
          "text": [
            "+-------+----+-----+----+-----+-----+----+------+---+---+-------+------+-----+----+--------------------------------------------------------------------------+\n",
            "|CRIM   |ZN  |INDUS|CHAS|NOX  |RM   |AGE |DIS   |RAD|TAX|PTRATIO|B     |LSTAT|MEDV|features                                                                  |\n",
            "+-------+----+-----+----+-----+-----+----+------+---+---+-------+------+-----+----+--------------------------------------------------------------------------+\n",
            "|0.01096|55.0|2.25 |0   |0.389|6.453|31.9|7.3073|1  |300|15.3   |394.72|8.23 |22.0|[0.01096,55.0,2.25,0.0,0.389,6.453,31.9,7.3073,1.0,300.0,15.3,394.72,8.23]|\n",
            "|0.01301|35.0|1.52 |0   |0.442|7.241|49.3|7.0379|1  |284|15.5   |394.74|5.49 |32.7|[0.01301,35.0,1.52,0.0,0.442,7.241,49.3,7.0379,1.0,284.0,15.5,394.74,5.49]|\n",
            "|0.0187 |85.0|4.15 |0   |0.429|6.516|27.7|8.5353|4  |351|17.9   |392.43|6.36 |23.1|[0.0187,85.0,4.15,0.0,0.429,6.516,27.7,8.5353,4.0,351.0,17.9,392.43,6.36] |\n",
            "|0.01965|80.0|1.76 |0   |0.385|6.23 |31.5|9.0892|1  |241|18.2   |341.6 |12.93|20.1|[0.01965,80.0,1.76,0.0,0.385,6.23,31.5,9.0892,1.0,241.0,18.2,341.6,12.93] |\n",
            "|0.02187|60.0|2.93 |0   |0.401|6.8  |9.9 |6.2196|1  |265|15.6   |393.37|5.03 |31.1|[0.02187,60.0,2.93,0.0,0.401,6.8,9.9,6.2196,1.0,265.0,15.6,393.37,5.03]   |\n",
            "+-------+----+-----+----+-----+-----+----+------+---+---+-------+------+-----+----+--------------------------------------------------------------------------+\n",
            "only showing top 5 rows\n",
            "\n"
          ]
        },
        {
          "output_type": "execute_result",
          "data": {
            "text/plain": [
              "144"
            ]
          },
          "metadata": {},
          "execution_count": 63
        }
      ]
    },
    {
      "cell_type": "markdown",
      "source": [
        "**Creating the linear regression model**"
      ],
      "metadata": {
        "id": "9RF9CoS4XzO3"
      }
    },
    {
      "cell_type": "code",
      "source": [
        "from pyspark.ml.regression import LinearRegression"
      ],
      "metadata": {
        "id": "go2Xi8RLW_1L"
      },
      "execution_count": 58,
      "outputs": []
    },
    {
      "cell_type": "code",
      "source": [
        "# Create a Linear Regression Estimator\n",
        "lr = LinearRegression(featuresCol=\"features\", labelCol=\"MEDV\", predictionCol=\"prediction\")\n",
        "\n",
        "lr_model = lr.fit(train)\n",
        "\n"
      ],
      "metadata": {
        "id": "sdS9DvM0X_GW"
      },
      "execution_count": 64,
      "outputs": []
    },
    {
      "cell_type": "markdown",
      "source": [
        "\n",
        "\n",
        "*   Test the linear regression model.\n",
        "\n",
        "\n"
      ],
      "metadata": {
        "id": "JRmdP0YbaFhQ"
      }
    },
    {
      "cell_type": "code",
      "source": [
        "# Use the transform method to create predictions\n",
        "predictions = lr_model.transform(test)\n",
        "\n",
        "# Print out the newly transformed DataFrame with predictions\n",
        "predictions.show()\n"
      ],
      "metadata": {
        "colab": {
          "base_uri": "https://localhost:8080/"
        },
        "id": "JoWK7P9uX_JH",
        "outputId": "874cad84-7f6d-4aff-ac3b-ad7966f46ec9"
      },
      "execution_count": 66,
      "outputs": [
        {
          "output_type": "stream",
          "name": "stdout",
          "text": [
            "+-------+----+-----+----+------+-----+----+------+---+---+-------+------+-----+----+--------------------+------------------+\n",
            "|   CRIM|  ZN|INDUS|CHAS|   NOX|   RM| AGE|   DIS|RAD|TAX|PTRATIO|     B|LSTAT|MEDV|            features|        prediction|\n",
            "+-------+----+-----+----+------+-----+----+------+---+---+-------+------+-----+----+--------------------+------------------+\n",
            "|0.01096|55.0| 2.25|   0| 0.389|6.453|31.9|7.3073|  1|300|   15.3|394.72| 8.23|22.0|[0.01096,55.0,2.2...|28.115511391065304|\n",
            "|0.01301|35.0| 1.52|   0| 0.442|7.241|49.3|7.0379|  1|284|   15.5|394.74| 5.49|32.7|[0.01301,35.0,1.5...| 30.34563537804119|\n",
            "| 0.0187|85.0| 4.15|   0| 0.429|6.516|27.7|8.5353|  4|351|   17.9|392.43| 6.36|23.1|[0.0187,85.0,4.15...|  26.0808247257684|\n",
            "|0.01965|80.0| 1.76|   0| 0.385| 6.23|31.5|9.0892|  1|241|   18.2| 341.6|12.93|20.1|[0.01965,80.0,1.7...|20.677043374983683|\n",
            "|0.02187|60.0| 2.93|   0| 0.401|  6.8| 9.9|6.2196|  1|265|   15.6|393.37| 5.03|31.1|[0.02187,60.0,2.9...|33.006885599082096|\n",
            "|0.02498| 0.0| 1.89|   0| 0.518| 6.54|59.7|6.2669|  1|422|   15.9|389.96| 8.65|16.5|[0.02498,0.0,1.89...|21.967826726006383|\n",
            "|0.02875|28.0|15.04|   0| 0.464|6.211|28.9|3.6659|  4|270|   18.2|396.33| 6.21|25.0|[0.02875,28.0,15....|29.846206955070404|\n",
            "|0.02899|40.0| 1.25|   0| 0.429|6.939|34.5|8.7921|  1|335|   19.7|389.85| 5.89|26.6|[0.02899,40.0,1.2...| 21.90549860036223|\n",
            "|0.03237| 0.0| 2.18|   0| 0.458|6.998|45.8|6.0622|  3|222|   18.7|394.63| 2.94|33.4|[0.03237,0.0,2.18...|28.202367024856457|\n",
            "|0.03306| 0.0| 5.19|   0| 0.515|6.059|37.3|4.8122|  5|224|   20.2|396.14| 8.51|20.6|[0.03306,0.0,5.19...|   22.211035879531|\n",
            "|0.03359|75.0| 2.95|   0| 0.428|7.024|15.8|5.4011|  3|252|   18.3|395.62| 1.98|34.9|[0.03359,75.0,2.9...| 35.17321471172873|\n",
            "|0.03427| 0.0| 5.19|   0| 0.515|5.869|46.3|5.2311|  5|224|   20.2| 396.9|  9.8|19.5|[0.03427,0.0,5.19...| 20.18547969540134|\n",
            "|0.03466|35.0| 6.06|   0|0.4379|6.031|23.3|6.6407|  1|304|   16.9|362.25| 7.83|19.4|[0.03466,35.0,6.0...| 23.98316935266278|\n",
            "| 0.0351|95.0| 2.68|   0|0.4161|7.853|33.2| 5.118|  4|224|   14.7|392.78| 3.81|48.5|[0.0351,95.0,2.68...| 43.01112729678855|\n",
            "|0.03537|34.0| 6.09|   0| 0.433| 6.59|40.4|5.4917|  7|329|   16.1|395.75|  9.5|22.0|[0.03537,34.0,6.0...|29.462647494500388|\n",
            "|0.03548|80.0| 3.64|   0| 0.392|5.876|19.1|9.2203|  1|315|   16.4|395.18| 9.25|20.9|[0.03548,80.0,3.6...| 22.74993786438436|\n",
            "|0.03551|25.0| 4.86|   0| 0.426|6.167|46.7|5.4007|  4|281|   19.0|390.64| 7.51|22.9|[0.03551,25.0,4.8...|25.509464619360738|\n",
            "|0.03578|20.0| 3.33|   0|0.4429| 7.82|64.5|4.6947|  5|216|   14.9|387.31| 3.76|45.4|[0.03578,20.0,3.3...| 38.63711269633856|\n",
            "|0.03615|80.0| 4.95|   0| 0.411| 6.63|23.4|5.1167|  4|245|   19.2| 396.9|  4.7|27.9|[0.03615,80.0,4.9...|  32.9797822702067|\n",
            "|0.03659|25.0| 4.86|   0| 0.426|6.302|32.2|5.4007|  4|281|   19.0| 396.9| 6.72|24.8|[0.03659,25.0,4.8...|26.474875065163417|\n",
            "+-------+----+-----+----+------+-----+----+------+---+---+-------+------+-----+----+--------------------+------------------+\n",
            "only showing top 20 rows\n",
            "\n"
          ]
        }
      ]
    },
    {
      "cell_type": "code",
      "source": [],
      "metadata": {
        "id": "FH2hkcT5X_Mg"
      },
      "execution_count": null,
      "outputs": []
    }
  ]
}